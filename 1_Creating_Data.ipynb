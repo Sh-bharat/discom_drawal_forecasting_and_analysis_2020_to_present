{
 "cells": [
  {
   "cell_type": "code",
   "execution_count": 1,
   "id": "ecdea43a",
   "metadata": {
    "ExecuteTime": {
     "end_time": "2025-05-16T08:43:14.561840Z",
     "start_time": "2025-05-16T08:43:14.551841Z"
    }
   },
   "outputs": [],
   "source": [
    "##Importing Libraries\n",
    "\n",
    "import pandas as pd\n",
    "import tqdm as tqdm\n",
    "from selenium import webdriver\n",
    "from selenium.webdriver.common.by import By\n",
    "from selenium.webdriver.support.ui import WebDriverWait\n",
    "from selenium.webdriver.support import expected_conditions as EC\n",
    "from selenium.webdriver.support.ui import Select  # Add this import for Select class\n",
    "from selenium.webdriver.chrome.service import Service\n",
    "from selenium.webdriver.chrome.options import Options\n",
    "import json\n",
    "from bs4 import BeautifulSoup\n",
    "import time\n",
    "from datetime import datetime, timedelta\n",
    "import os"
   ]
  },
  {
   "cell_type": "code",
   "execution_count": 2,
   "id": "fecc97f5-64c2-4d6a-9ea2-83944ce53416",
   "metadata": {},
   "outputs": [],
   "source": [
    "Download_Dir='C:\\\\Users\\\\bhara\\\\Downloads'"
   ]
  },
  {
   "cell_type": "code",
   "execution_count": 3,
   "id": "ad9a328f",
   "metadata": {
    "ExecuteTime": {
     "end_time": "2025-05-16T08:49:00.579685Z",
     "start_time": "2025-05-16T08:48:54.573999Z"
    }
   },
   "outputs": [],
   "source": [
    "## Initializing Dates\n",
    "start_date = datetime(2025, 4, 24)\n",
    "end_date = datetime(2025, 5, 16)\n",
    "present_date=start_date"
   ]
  },
  {
   "cell_type": "code",
   "execution_count": 4,
   "id": "1b150f72-f899-4c0d-9a75-27af261b8b05",
   "metadata": {},
   "outputs": [],
   "source": [
    "file_not_downloaded=[]"
   ]
  },
  {
   "cell_type": "code",
   "execution_count": null,
   "id": "51584e94-69d5-4aac-820d-0696195f4fe5",
   "metadata": {},
   "outputs": [
    {
     "name": "stderr",
     "output_type": "stream",
     "text": [
      "Processing dates:   0%|                                                                         | 0/23 [00:00<?, ?it/s]"
     ]
    },
    {
     "name": "stdout",
     "output_type": "stream",
     "text": [
      "Processing date: 24/04/2025\n"
     ]
    },
    {
     "name": "stderr",
     "output_type": "stream",
     "text": [
      "Processing dates:   4%|██▊                                                             | 1/23 [02:01<44:43, 121.97s/it]"
     ]
    },
    {
     "name": "stdout",
     "output_type": "stream",
     "text": [
      "Processing date: 25/04/2025\n"
     ]
    },
    {
     "name": "stderr",
     "output_type": "stream",
     "text": [
      "Processing dates:   9%|█████▌                                                          | 2/23 [03:36<37:02, 105.83s/it]"
     ]
    },
    {
     "name": "stdout",
     "output_type": "stream",
     "text": [
      "Processing date: 26/04/2025\n"
     ]
    },
    {
     "name": "stderr",
     "output_type": "stream",
     "text": [
      "Processing dates:  13%|████████▍                                                        | 3/23 [04:28<27:06, 81.34s/it]"
     ]
    },
    {
     "name": "stdout",
     "output_type": "stream",
     "text": [
      "Processing date: 27/04/2025\n"
     ]
    },
    {
     "name": "stderr",
     "output_type": "stream",
     "text": [
      "Processing dates:  17%|███████████▎                                                     | 4/23 [06:35<31:29, 99.47s/it]"
     ]
    },
    {
     "name": "stdout",
     "output_type": "stream",
     "text": [
      "Processing date: 28/04/2025\n"
     ]
    },
    {
     "name": "stderr",
     "output_type": "stream",
     "text": [
      "Processing dates:  22%|██████████████▏                                                  | 5/23 [08:04<28:38, 95.47s/it]"
     ]
    },
    {
     "name": "stdout",
     "output_type": "stream",
     "text": [
      "Processing date: 29/04/2025\n"
     ]
    },
    {
     "name": "stderr",
     "output_type": "stream",
     "text": [
      "Processing dates:  26%|████████████████▋                                               | 6/23 [10:14<30:22, 107.19s/it]"
     ]
    },
    {
     "name": "stdout",
     "output_type": "stream",
     "text": [
      "Processing date: 30/04/2025\n"
     ]
    },
    {
     "name": "stderr",
     "output_type": "stream",
     "text": [
      "Processing dates:  30%|███████████████████▊                                             | 7/23 [11:17<24:45, 92.86s/it]"
     ]
    },
    {
     "name": "stdout",
     "output_type": "stream",
     "text": [
      "Processing date: 01/05/2025\n"
     ]
    },
    {
     "name": "stderr",
     "output_type": "stream",
     "text": [
      "Processing dates:  35%|██████████████████████▌                                          | 8/23 [12:25<21:12, 84.82s/it]"
     ]
    },
    {
     "name": "stdout",
     "output_type": "stream",
     "text": [
      "Processing date: 02/05/2025\n"
     ]
    },
    {
     "name": "stderr",
     "output_type": "stream",
     "text": [
      "Processing dates:  39%|█████████████████████████▍                                       | 9/23 [13:05<16:31, 70.83s/it]"
     ]
    },
    {
     "name": "stdout",
     "output_type": "stream",
     "text": [
      "Processing date: 03/05/2025\n"
     ]
    },
    {
     "name": "stderr",
     "output_type": "stream",
     "text": [
      "Processing dates:  43%|███████████████████████████▊                                    | 10/23 [13:45<13:19, 61.52s/it]"
     ]
    },
    {
     "name": "stdout",
     "output_type": "stream",
     "text": [
      "Processing date: 04/05/2025\n"
     ]
    },
    {
     "name": "stderr",
     "output_type": "stream",
     "text": [
      "Processing dates:  48%|██████████████████████████████▌                                 | 11/23 [14:59<13:03, 65.33s/it]"
     ]
    },
    {
     "name": "stdout",
     "output_type": "stream",
     "text": [
      "Processing date: 05/05/2025\n"
     ]
    },
    {
     "name": "stderr",
     "output_type": "stream",
     "text": [
      "Processing dates:  52%|████████████████████████████████▊                              | 12/23 [21:42<30:45, 167.79s/it]"
     ]
    },
    {
     "name": "stdout",
     "output_type": "stream",
     "text": [
      "Processing date: 06/05/2025\n"
     ]
    },
    {
     "name": "stderr",
     "output_type": "stream",
     "text": [
      "Processing dates:  57%|███████████████████████████████████▌                           | 13/23 [22:51<23:00, 138.09s/it]"
     ]
    },
    {
     "name": "stdout",
     "output_type": "stream",
     "text": [
      "Processing date: 07/05/2025\n"
     ]
    },
    {
     "name": "stderr",
     "output_type": "stream",
     "text": [
      "Processing dates:  61%|██████████████████████████████████████▎                        | 14/23 [23:34<16:23, 109.23s/it]"
     ]
    },
    {
     "name": "stdout",
     "output_type": "stream",
     "text": [
      "Processing date: 08/05/2025\n"
     ]
    },
    {
     "name": "stderr",
     "output_type": "stream",
     "text": [
      "Processing dates:  65%|█████████████████████████████████████████▋                      | 15/23 [24:16<11:51, 88.90s/it]"
     ]
    },
    {
     "name": "stdout",
     "output_type": "stream",
     "text": [
      "Processing date: 09/05/2025\n"
     ]
    },
    {
     "name": "stderr",
     "output_type": "stream",
     "text": [
      "Processing dates:  70%|████████████████████████████████████████████▌                   | 16/23 [25:09<09:06, 78.04s/it]"
     ]
    },
    {
     "name": "stdout",
     "output_type": "stream",
     "text": [
      "Processing date: 10/05/2025\n"
     ]
    },
    {
     "name": "stderr",
     "output_type": "stream",
     "text": [
      "Processing dates:  74%|███████████████████████████████████████████████▎                | 17/23 [25:50<06:42, 67.01s/it]"
     ]
    },
    {
     "name": "stdout",
     "output_type": "stream",
     "text": [
      "Processing date: 11/05/2025\n"
     ]
    },
    {
     "name": "stderr",
     "output_type": "stream",
     "text": [
      "Processing dates:  78%|██████████████████████████████████████████████████              | 18/23 [26:31<04:55, 59.18s/it]"
     ]
    },
    {
     "name": "stdout",
     "output_type": "stream",
     "text": [
      "Processing date: 12/05/2025\n"
     ]
    },
    {
     "name": "stderr",
     "output_type": "stream",
     "text": [
      "Processing dates:  83%|████████████████████████████████████████████████████▊           | 19/23 [27:23<03:48, 57.08s/it]"
     ]
    },
    {
     "name": "stdout",
     "output_type": "stream",
     "text": [
      "Processing date: 13/05/2025\n"
     ]
    },
    {
     "name": "stderr",
     "output_type": "stream",
     "text": [
      "Processing dates:  87%|███████████████████████████████████████████████████████▋        | 20/23 [28:59<03:25, 68.65s/it]"
     ]
    },
    {
     "name": "stdout",
     "output_type": "stream",
     "text": [
      "Processing date: 14/05/2025\n"
     ]
    },
    {
     "name": "stderr",
     "output_type": "stream",
     "text": [
      "Processing dates:  91%|██████████████████████████████████████████████████████████▍     | 21/23 [29:41<02:01, 60.67s/it]"
     ]
    },
    {
     "name": "stdout",
     "output_type": "stream",
     "text": [
      "Processing date: 15/05/2025\n"
     ]
    },
    {
     "name": "stderr",
     "output_type": "stream",
     "text": [
      "Processing dates:  96%|█████████████████████████████████████████████████████████████▏  | 22/23 [30:31<00:57, 57.43s/it]"
     ]
    },
    {
     "name": "stdout",
     "output_type": "stream",
     "text": [
      "Processing date: 16/05/2025\n"
     ]
    },
    {
     "name": "stderr",
     "output_type": "stream",
     "text": [
      "Processing dates: 100%|████████████████████████████████████████████████████████████████| 23/23 [31:20<00:00, 81.76s/it]\n",
      "Processing dates:   0%|                                                                         | 0/23 [00:00<?, ?it/s]"
     ]
    },
    {
     "name": "stdout",
     "output_type": "stream",
     "text": [
      "Processing date: 24/04/2025\n"
     ]
    },
    {
     "name": "stderr",
     "output_type": "stream",
     "text": [
      "Processing dates:   4%|██▊                                                              | 1/23 [00:50<18:35, 50.69s/it]"
     ]
    },
    {
     "name": "stdout",
     "output_type": "stream",
     "text": [
      "Processing date: 25/04/2025\n"
     ]
    },
    {
     "name": "stderr",
     "output_type": "stream",
     "text": [
      "Processing dates:   9%|█████▋                                                           | 2/23 [01:32<15:50, 45.28s/it]"
     ]
    },
    {
     "name": "stdout",
     "output_type": "stream",
     "text": [
      "Processing date: 26/04/2025\n"
     ]
    }
   ],
   "source": [
    "while present_date!=end_date:\n",
    "    date_range = pd.date_range(start=present_date, end=end_date, freq='D')\n",
    "    try:\n",
    "    \n",
    "        for current_date in tqdm.tqdm(date_range, desc=\"Processing dates\"):\n",
    "            present_Date=current_date\n",
    "            ## Setting Web Driver\n",
    "            options = Options()\n",
    "            options.add_argument(\"--start-maximized\")\n",
    "            driver = webdriver.Chrome(options=options)    \n",
    "            driver.get('https://uksldc.com/ViewReportSchedule/Index/GetNetSchedule')    \n",
    "            \n",
    "            time.sleep(5)\n",
    "        \n",
    "            print(f\"Processing date: {current_date.strftime('%d/%m/%Y')}\")\n",
    "            Date_to_pass = current_date.strftime(\"%m/%d/%Y\")  \n",
    "        \n",
    "            # Setting the Current date in input\n",
    "            driver.execute_script(f'document.getElementById(\"fromdate\").value=\"{Date_to_pass}\";')\n",
    "            time.sleep(1)\n",
    "        \n",
    "            # Setting View as Discom Drawal\n",
    "            driver.execute_script('document.getElementById(\"rdbdisom\").click();')\n",
    "            time.sleep(1)\n",
    "        \n",
    "            # Loop For Setting revision to max Until not Continue\n",
    "            Status=False    \n",
    "            while not Status:\n",
    "                driver.execute_script('ddlRevisionList.value = Math.max(...[...ddlRevisionList.options].map(o => +o.value)).toString();')        \n",
    "                Status=driver.execute_script(\"window.data=document.getElementById('ddlRevisionList').value; return window.data;\")\n",
    "                time.sleep(1)\n",
    "        \n",
    "            # Loop For Getting Result Table Until not Continue\n",
    "            while not Status:\n",
    "                show_button = WebDriverWait(driver, 5).until(\n",
    "                    EC.element_to_be_clickable((By.ID, \"btnapply\"))\n",
    "                )\n",
    "                show_button.click()   \n",
    "                Status=driver.execute_script('if (document.getElementById(\"contentjqxgridDiscomeReq\")){window.data=1}; return window.data;')\n",
    "                time.sleep(2)\n",
    "                \n",
    "            time.sleep(2)\n",
    "            ## Loop Until the Download Not started\n",
    "        \n",
    "            Status=False\n",
    "            Prev_Files=os.listdir(Download_Dir)\n",
    "            while not Status:\n",
    "                driver.execute_script(\"document.getElementById('btnexportexcel').click();\")\n",
    "                time.sleep(1)\n",
    "                if len(os.listdir(Download_Dir))!=len(Prev_Files):\n",
    "                    time.sleep(10)\n",
    "                    Status=True\n",
    "            driver.quit()\n",
    "    except:\n",
    "        file_not_downloaded.append(current_date)\n",
    "    \n"
   ]
  },
  {
   "cell_type": "code",
   "execution_count": null,
   "id": "c20dce84-f348-45c8-a2b9-9870d31f367f",
   "metadata": {},
   "outputs": [],
   "source": [
    "print(file_not_downloaded)"
   ]
  },
  {
   "cell_type": "code",
   "execution_count": null,
   "id": "7b300269-415e-44b5-a4bb-9171232cca60",
   "metadata": {},
   "outputs": [],
   "source": []
  }
 ],
 "metadata": {
  "kernelspec": {
   "display_name": "Python [conda env:base] *",
   "language": "python",
   "name": "conda-base-py"
  },
  "language_info": {
   "codemirror_mode": {
    "name": "ipython",
    "version": 3
   },
   "file_extension": ".py",
   "mimetype": "text/x-python",
   "name": "python",
   "nbconvert_exporter": "python",
   "pygments_lexer": "ipython3",
   "version": "3.12.7"
  },
  "toc": {
   "base_numbering": 1,
   "nav_menu": {},
   "number_sections": true,
   "sideBar": true,
   "skip_h1_title": false,
   "title_cell": "Table of Contents",
   "title_sidebar": "Contents",
   "toc_cell": false,
   "toc_position": {},
   "toc_section_display": true,
   "toc_window_display": false
  }
 },
 "nbformat": 4,
 "nbformat_minor": 5
}
