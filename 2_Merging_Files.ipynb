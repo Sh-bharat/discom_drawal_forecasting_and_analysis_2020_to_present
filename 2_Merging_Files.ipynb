{
 "cells": [
  {
   "cell_type": "code",
   "execution_count": 2,
   "id": "26c17309-c62c-4431-81fa-1b06a9f3274c",
   "metadata": {},
   "outputs": [],
   "source": [
    "## Importing Libraries\n",
    "import os \n",
    "import pandas as pd\n",
    "import xlrd\n",
    "import re\n",
    "from tqdm import tqdm\n",
    "from datetime import datetime, timedelta"
   ]
  },
  {
   "cell_type": "code",
   "execution_count": 226,
   "id": "2a054665-5274-4650-bbcc-af34a647ab22",
   "metadata": {},
   "outputs": [
    {
     "name": "stdout",
     "output_type": "stream",
     "text": [
      "C:\\Users\\bhara\\Assignment_GNA\\Downloads\n"
     ]
    }
   ],
   "source": [
    "## Directory where all files are present \n",
    "Download_Dir=os.path.join(os.getcwd(),\"Downloads\")\n",
    "print(Download_Dir)"
   ]
  },
  {
   "cell_type": "code",
   "execution_count": 227,
   "id": "0454e49e-b456-4480-8d06-17b13682401f",
   "metadata": {},
   "outputs": [],
   "source": [
    "## Function to Create DateTimeIndex\n",
    "def create_datetime(time_desc,file_date):\n",
    "    # if pd.isna(time_desc) or file_date is None:\n",
    "    #     return pd.NaT \n",
    "    try:\n",
    "        end_time_str = time_desc.split('-')[0]\n",
    "        datetime_str = f\"{file_date} {end_time_str}\"\n",
    "        return pd.to_datetime(datetime_str, format='%Y-%m-%d %H:%M')\n",
    "    except Exception as e:\n",
    "        print(f\"Error converting time_desc '{time_desc}': {e}\")\n",
    "\n",
    "\n",
    "\n",
    "## Function to Format the data of File\n",
    "def Clean_File(File_Name,File_Path):\n",
    "    df_list = pd.read_html(File_Path)\n",
    "    df = df_list[0]\n",
    "    df = df[:-4] ## Removing Stats Rows from Dataframe\n",
    "    df = df.iloc[:, 1:] ## Removing Index Column\n",
    "    ## Extracting Date from the File_Name\n",
    "    match = re.search(r'\\d{2}-\\d{2}-\\d{4}', File_Name)\n",
    "    if match:\n",
    "        file_date_str = match.group(0)\n",
    "        file_date = pd.to_datetime(file_date_str, format='%d-%m-%Y').date()\n",
    "    else:\n",
    "        print(\"Could not extract date from filename.\")\n",
    "        file_date = None\n",
    "    # df.index = df['TimeDesc'].apply(create_datetime,file_date)\n",
    "    df.index = df['TimeDesc'].apply(lambda x: create_datetime(x, file_date))\n",
    "    df = df.iloc[:, 1:]\n",
    "    return df\n",
    "\n",
    "## Function That will create a csv file (if not present) or append the df into a csv file\n",
    "def save_or_append_csv(df, file_path):\n",
    "   \n",
    "    if not os.path.exists(file_path):\n",
    "        # File doesn't exist; write with header\n",
    "        df.to_csv(file_path, mode='w', index=True)\n",
    "        # print(\"Created File\")\n",
    "    else:\n",
    "        # File exists; append without header\n",
    "        df.to_csv(file_path, mode='a', header=False, index=True)\n",
    "        # print(\"Appended data\")\n",
    "\n",
    "\n"
   ]
  },
  {
   "cell_type": "code",
   "execution_count": 228,
   "id": "e9c977e6-eba2-4a7e-a6f0-aba538fbf491",
   "metadata": {},
   "outputs": [],
   "source": [
    "## Date Ranges\n",
    "start_date = datetime(2020, 5, 17)\n",
    "end_date = datetime(2025, 5, 16)\n",
    "date_range = pd.date_range(start=start_date, end=end_date, freq='D')"
   ]
  },
  {
   "cell_type": "code",
   "execution_count": 229,
   "id": "197c865d-f624-44a1-a389-35574d0fc992",
   "metadata": {},
   "outputs": [
    {
     "name": "stderr",
     "output_type": "stream",
     "text": [
      "Processing : 100%|█████████████████████████████████████████████████████████████████| 1826/1826 [02:12<00:00, 13.75it/s]\n"
     ]
    }
   ],
   "source": [
    "## Merging All Files \n",
    "for date in tqdm(date_range,\"Processing : \"):\n",
    "    day = date.strftime(\"%d\")\n",
    "    month = date.strftime(\"%m\")\n",
    "    year = date.strftime(\"%Y\")\n",
    "    File_Name='Report-Summary-'+str(day)+'-'+str(month)+'-'+str(year)+'.xls'\n",
    "    File_Path=os.path.join(Download_Dir,File_Name)\n",
    "    if os.path.exists(File_Path):    \n",
    "        df=Clean_File(File_Name,File_Path)\n",
    "        save_or_append_csv(df, 'Final.csv')\n",
    "    else:\n",
    "        print(\"File Not Found :- \",File_Path)"
   ]
  },
  {
   "cell_type": "code",
   "execution_count": 16,
   "id": "80e30abc-f59e-407a-93aa-1fd0d5deeeb9",
   "metadata": {},
   "outputs": [],
   "source": [
    "df = pd.read_csv('Final.csv',index_col=0)\n",
    "df=df[['Total']]\n",
    "df.to_csv('Discom_Drawal_Total.csv')"
   ]
  },
  {
   "cell_type": "code",
   "execution_count": null,
   "id": "c4e8d8e3-ca01-44bd-98a1-5c8ec5a8ac40",
   "metadata": {},
   "outputs": [],
   "source": []
  }
 ],
 "metadata": {
  "kernelspec": {
   "display_name": "Python [conda env:base] *",
   "language": "python",
   "name": "conda-base-py"
  },
  "language_info": {
   "codemirror_mode": {
    "name": "ipython",
    "version": 3
   },
   "file_extension": ".py",
   "mimetype": "text/x-python",
   "name": "python",
   "nbconvert_exporter": "python",
   "pygments_lexer": "ipython3",
   "version": "3.12.7"
  }
 },
 "nbformat": 4,
 "nbformat_minor": 5
}
