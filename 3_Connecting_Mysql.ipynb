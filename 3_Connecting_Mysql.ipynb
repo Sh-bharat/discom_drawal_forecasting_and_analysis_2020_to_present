{
 "cells": [
  {
   "cell_type": "code",
   "execution_count": 1,
   "id": "e26355ea-d1aa-403d-af33-982b69a8ac55",
   "metadata": {},
   "outputs": [],
   "source": [
    "## https://dev.mysql.com/downloads/file/?id=541637   MySQL Community SetupFile Download LINK"
   ]
  },
  {
   "cell_type": "code",
   "execution_count": 32,
   "id": "ab14d577-4de5-4aa2-b636-49047e17385e",
   "metadata": {},
   "outputs": [],
   "source": [
    "## Importing Libraries\n",
    "import mysql.connector\n",
    "import pandas as pd"
   ]
  },
  {
   "cell_type": "code",
   "execution_count": 33,
   "id": "45743b4f-2b50-4aab-82c5-80328fc66c24",
   "metadata": {},
   "outputs": [
    {
     "name": "stdout",
     "output_type": "stream",
     "text": [
      "<mysql.connector.connection_cext.CMySQLConnection object at 0x0000021F533FB7D0>\n"
     ]
    }
   ],
   "source": [
    "## Setting Connection to Mysql Server\n",
    "conn = mysql.connector.connect(\n",
    "    host='localhost',         \n",
    "    user='root',   \n",
    "    password='0980'\n",
    ")\n",
    "print(conn)"
   ]
  },
  {
   "cell_type": "code",
   "execution_count": 34,
   "id": "f1bbf5fe-c164-4205-bccf-9f4041bda7f0",
   "metadata": {},
   "outputs": [
    {
     "name": "stdout",
     "output_type": "stream",
     "text": [
      "('information_schema',)\n",
      "('mysql',)\n",
      "('performance_schema',)\n",
      "('sakila',)\n",
      "('sys',)\n",
      "('world',)\n"
     ]
    }
   ],
   "source": [
    "## Display DATASET\n",
    "mycursor = conn.cursor()\n",
    "mycursor.execute(\"SHOW DATABASES\")\n",
    "for x in mycursor:\n",
    "  print(x)"
   ]
  },
  {
   "cell_type": "code",
   "execution_count": 35,
   "id": "10e6a58c-53d1-41f2-a077-95eb5b63891d",
   "metadata": {},
   "outputs": [],
   "source": [
    "## Creating DataBase\n",
    "mycursor.execute(\"CREATE DATABASE Discom_Drawal\")"
   ]
  },
  {
   "cell_type": "code",
   "execution_count": 36,
   "id": "9191601b-233a-411d-afa7-b158a9764dcf",
   "metadata": {},
   "outputs": [
    {
     "name": "stdout",
     "output_type": "stream",
     "text": [
      "('discom_drawal',)\n",
      "('information_schema',)\n",
      "('mysql',)\n",
      "('performance_schema',)\n",
      "('sakila',)\n",
      "('sys',)\n",
      "('world',)\n"
     ]
    }
   ],
   "source": [
    "## Checking if the DataBase Created or Not\n",
    "mycursor.execute(\"SHOW DATABASES\")\n",
    "for x in mycursor:\n",
    "  print(x)"
   ]
  },
  {
   "cell_type": "code",
   "execution_count": 37,
   "id": "e734ab0d-2262-417c-8b60-1076f57caebe",
   "metadata": {},
   "outputs": [],
   "source": [
    "mycursor.execute(\"USE Discom_Drawal\")"
   ]
  },
  {
   "cell_type": "code",
   "execution_count": 38,
   "id": "d9ec3a70-f61b-4379-a907-77e73009126a",
   "metadata": {},
   "outputs": [],
   "source": [
    "mycursor.execute(\"SHOW TABLES\")\n",
    "for x in mycursor:\n",
    "  print(x)"
   ]
  },
  {
   "cell_type": "code",
   "execution_count": 39,
   "id": "eceb04eb-8f18-4ea5-9e8b-105d71185966",
   "metadata": {},
   "outputs": [],
   "source": [
    "## Loading Dataset\n",
    "df = pd.read_csv('Final.csv')"
   ]
  },
  {
   "cell_type": "code",
   "execution_count": 40,
   "id": "17e04824-efa2-4107-affe-8e552c19e249",
   "metadata": {},
   "outputs": [
    {
     "data": {
      "text/html": [
       "<div>\n",
       "<style scoped>\n",
       "    .dataframe tbody tr th:only-of-type {\n",
       "        vertical-align: middle;\n",
       "    }\n",
       "\n",
       "    .dataframe tbody tr th {\n",
       "        vertical-align: top;\n",
       "    }\n",
       "\n",
       "    .dataframe thead th {\n",
       "        text-align: right;\n",
       "    }\n",
       "</style>\n",
       "<table border=\"1\" class=\"dataframe\">\n",
       "  <thead>\n",
       "    <tr style=\"text-align: right;\">\n",
       "      <th></th>\n",
       "      <th>TimeDesc</th>\n",
       "      <th>Bazpur Solar Plant</th>\n",
       "      <th>Bhilangana Hydro Power Ltd.</th>\n",
       "      <th>Chibro Power House</th>\n",
       "      <th>Chilla Power House</th>\n",
       "      <th>Dhakrani Power House</th>\n",
       "      <th>Dhalipur Power House</th>\n",
       "      <th>Dharasu Power House</th>\n",
       "      <th>Gaderpur Solar Plant</th>\n",
       "      <th>Gama Infroprop (p) Ltd.</th>\n",
       "      <th>...</th>\n",
       "      <th>Eminent solar power pvt ltd</th>\n",
       "      <th>Sunworld energy pvt ltd</th>\n",
       "      <th>Ballupur solar power project pvt ltd</th>\n",
       "      <th>Chudiala solar power project pvt ltd</th>\n",
       "      <th>Shakumbhari solar power project pvt ltd</th>\n",
       "      <th>Haridwar solar project pvt ltd 1</th>\n",
       "      <th>Haridwar solar project pvt ltd 2</th>\n",
       "      <th>IaSGS</th>\n",
       "      <th>ISGS</th>\n",
       "      <th>Total</th>\n",
       "    </tr>\n",
       "  </thead>\n",
       "  <tbody>\n",
       "    <tr>\n",
       "      <th>0</th>\n",
       "      <td>2020-05-17 00:00:00</td>\n",
       "      <td>0.0</td>\n",
       "      <td>24.0</td>\n",
       "      <td>120.0</td>\n",
       "      <td>95.0</td>\n",
       "      <td>24.0</td>\n",
       "      <td>17.0</td>\n",
       "      <td>76.0</td>\n",
       "      <td>0.0</td>\n",
       "      <td>0.0</td>\n",
       "      <td>...</td>\n",
       "      <td>0.0</td>\n",
       "      <td>0.0</td>\n",
       "      <td>0.0</td>\n",
       "      <td>0.0</td>\n",
       "      <td>0.0</td>\n",
       "      <td>0.0</td>\n",
       "      <td>0.0</td>\n",
       "      <td>593.2</td>\n",
       "      <td>586.93</td>\n",
       "      <td>1180.13</td>\n",
       "    </tr>\n",
       "    <tr>\n",
       "      <th>1</th>\n",
       "      <td>2020-05-17 00:15:00</td>\n",
       "      <td>0.0</td>\n",
       "      <td>24.0</td>\n",
       "      <td>120.0</td>\n",
       "      <td>95.0</td>\n",
       "      <td>23.0</td>\n",
       "      <td>17.0</td>\n",
       "      <td>76.0</td>\n",
       "      <td>0.0</td>\n",
       "      <td>0.0</td>\n",
       "      <td>...</td>\n",
       "      <td>0.0</td>\n",
       "      <td>0.0</td>\n",
       "      <td>0.0</td>\n",
       "      <td>0.0</td>\n",
       "      <td>0.0</td>\n",
       "      <td>0.0</td>\n",
       "      <td>0.0</td>\n",
       "      <td>591.2</td>\n",
       "      <td>556.81</td>\n",
       "      <td>1148.01</td>\n",
       "    </tr>\n",
       "    <tr>\n",
       "      <th>2</th>\n",
       "      <td>2020-05-17 00:30:00</td>\n",
       "      <td>0.0</td>\n",
       "      <td>24.0</td>\n",
       "      <td>120.0</td>\n",
       "      <td>95.0</td>\n",
       "      <td>23.0</td>\n",
       "      <td>17.0</td>\n",
       "      <td>76.0</td>\n",
       "      <td>0.0</td>\n",
       "      <td>0.0</td>\n",
       "      <td>...</td>\n",
       "      <td>0.0</td>\n",
       "      <td>0.0</td>\n",
       "      <td>0.0</td>\n",
       "      <td>0.0</td>\n",
       "      <td>0.0</td>\n",
       "      <td>0.0</td>\n",
       "      <td>0.0</td>\n",
       "      <td>591.2</td>\n",
       "      <td>541.66</td>\n",
       "      <td>1132.86</td>\n",
       "    </tr>\n",
       "    <tr>\n",
       "      <th>3</th>\n",
       "      <td>2020-05-17 00:45:00</td>\n",
       "      <td>0.0</td>\n",
       "      <td>24.0</td>\n",
       "      <td>120.0</td>\n",
       "      <td>95.0</td>\n",
       "      <td>23.0</td>\n",
       "      <td>17.0</td>\n",
       "      <td>76.0</td>\n",
       "      <td>0.0</td>\n",
       "      <td>0.0</td>\n",
       "      <td>...</td>\n",
       "      <td>0.0</td>\n",
       "      <td>0.0</td>\n",
       "      <td>0.0</td>\n",
       "      <td>0.0</td>\n",
       "      <td>0.0</td>\n",
       "      <td>0.0</td>\n",
       "      <td>0.0</td>\n",
       "      <td>595.2</td>\n",
       "      <td>511.22</td>\n",
       "      <td>1106.42</td>\n",
       "    </tr>\n",
       "    <tr>\n",
       "      <th>4</th>\n",
       "      <td>2020-05-17 01:00:00</td>\n",
       "      <td>0.0</td>\n",
       "      <td>24.0</td>\n",
       "      <td>120.0</td>\n",
       "      <td>95.0</td>\n",
       "      <td>23.0</td>\n",
       "      <td>17.0</td>\n",
       "      <td>76.0</td>\n",
       "      <td>0.0</td>\n",
       "      <td>0.0</td>\n",
       "      <td>...</td>\n",
       "      <td>0.0</td>\n",
       "      <td>0.0</td>\n",
       "      <td>0.0</td>\n",
       "      <td>0.0</td>\n",
       "      <td>0.0</td>\n",
       "      <td>0.0</td>\n",
       "      <td>0.0</td>\n",
       "      <td>595.2</td>\n",
       "      <td>508.39</td>\n",
       "      <td>1103.59</td>\n",
       "    </tr>\n",
       "  </tbody>\n",
       "</table>\n",
       "<p>5 rows × 55 columns</p>\n",
       "</div>"
      ],
      "text/plain": [
       "              TimeDesc  Bazpur Solar Plant  Bhilangana Hydro Power Ltd.  \\\n",
       "0  2020-05-17 00:00:00                 0.0                         24.0   \n",
       "1  2020-05-17 00:15:00                 0.0                         24.0   \n",
       "2  2020-05-17 00:30:00                 0.0                         24.0   \n",
       "3  2020-05-17 00:45:00                 0.0                         24.0   \n",
       "4  2020-05-17 01:00:00                 0.0                         24.0   \n",
       "\n",
       "   Chibro Power House  Chilla Power House  Dhakrani Power House  \\\n",
       "0               120.0                95.0                  24.0   \n",
       "1               120.0                95.0                  23.0   \n",
       "2               120.0                95.0                  23.0   \n",
       "3               120.0                95.0                  23.0   \n",
       "4               120.0                95.0                  23.0   \n",
       "\n",
       "   Dhalipur Power House  Dharasu Power House  Gaderpur Solar Plant  \\\n",
       "0                  17.0                 76.0                   0.0   \n",
       "1                  17.0                 76.0                   0.0   \n",
       "2                  17.0                 76.0                   0.0   \n",
       "3                  17.0                 76.0                   0.0   \n",
       "4                  17.0                 76.0                   0.0   \n",
       "\n",
       "   Gama Infroprop (p) Ltd.  ...  Eminent solar power pvt ltd  \\\n",
       "0                      0.0  ...                          0.0   \n",
       "1                      0.0  ...                          0.0   \n",
       "2                      0.0  ...                          0.0   \n",
       "3                      0.0  ...                          0.0   \n",
       "4                      0.0  ...                          0.0   \n",
       "\n",
       "   Sunworld energy pvt ltd  Ballupur solar power project pvt ltd  \\\n",
       "0                      0.0                                   0.0   \n",
       "1                      0.0                                   0.0   \n",
       "2                      0.0                                   0.0   \n",
       "3                      0.0                                   0.0   \n",
       "4                      0.0                                   0.0   \n",
       "\n",
       "   Chudiala solar power project pvt ltd  \\\n",
       "0                                   0.0   \n",
       "1                                   0.0   \n",
       "2                                   0.0   \n",
       "3                                   0.0   \n",
       "4                                   0.0   \n",
       "\n",
       "   Shakumbhari solar power project pvt ltd  Haridwar solar project pvt ltd 1  \\\n",
       "0                                      0.0                               0.0   \n",
       "1                                      0.0                               0.0   \n",
       "2                                      0.0                               0.0   \n",
       "3                                      0.0                               0.0   \n",
       "4                                      0.0                               0.0   \n",
       "\n",
       "   Haridwar solar project pvt ltd 2  IaSGS    ISGS    Total  \n",
       "0                               0.0  593.2  586.93  1180.13  \n",
       "1                               0.0  591.2  556.81  1148.01  \n",
       "2                               0.0  591.2  541.66  1132.86  \n",
       "3                               0.0  595.2  511.22  1106.42  \n",
       "4                               0.0  595.2  508.39  1103.59  \n",
       "\n",
       "[5 rows x 55 columns]"
      ]
     },
     "execution_count": 40,
     "metadata": {},
     "output_type": "execute_result"
    }
   ],
   "source": [
    "df.head()"
   ]
  },
  {
   "cell_type": "code",
   "execution_count": 48,
   "id": "30d7aa33-808e-4d38-ae18-7b3f0c47750d",
   "metadata": {},
   "outputs": [
    {
     "data": {
      "text/plain": [
       "175296"
      ]
     },
     "execution_count": 48,
     "metadata": {},
     "output_type": "execute_result"
    }
   ],
   "source": [
    "len(df)"
   ]
  },
  {
   "cell_type": "code",
   "execution_count": 41,
   "id": "d38ae28d-b11f-4b89-9d4a-b98f2bb3c965",
   "metadata": {},
   "outputs": [],
   "source": [
    "column_types = {\n",
    "    'int64': 'INT',\n",
    "    'float64': 'FLOAT',\n",
    "    'object': 'VARCHAR(255)',\n",
    "    'datetime64[ns]': 'DATETIME'\n",
    "}"
   ]
  },
  {
   "cell_type": "code",
   "execution_count": 42,
   "id": "c1736f28-1fc7-4536-bb39-c998b3c34b2e",
   "metadata": {},
   "outputs": [],
   "source": [
    "## Create table with TimeDesc as primary key\n",
    "columns = []\n",
    "for col_name, dtype in df.dtypes.items():\n",
    "    sql_type = column_types.get(str(dtype), 'VARCHAR(255)')\n",
    "    if col_name == 'TimeDesc':\n",
    "        columns.append(f\"`{col_name}` {sql_type} PRIMARY KEY\")\n",
    "    else:\n",
    "        columns.append(f\"`{col_name}` {sql_type}\")\n",
    "\n",
    "create_table_sql = f\"\"\"\n",
    "CREATE TABLE DISCOM_DRAWAL_DATA (\n",
    "    {', '.join(columns)}\n",
    ")\n",
    "\"\"\""
   ]
  },
  {
   "cell_type": "code",
   "execution_count": 43,
   "id": "748607e0-173f-4fc2-9b76-12a56b7f1e6a",
   "metadata": {},
   "outputs": [],
   "source": [
    "mycursor.execute(create_table_sql)"
   ]
  },
  {
   "cell_type": "code",
   "execution_count": 44,
   "id": "99849e0b-4403-44d9-ad01-dfeaecedd654",
   "metadata": {},
   "outputs": [],
   "source": [
    "## Prepare data for insertion\n",
    "insert_query = f\"\"\"\n",
    "INSERT INTO DISCOM_DRAWAL_DATA ({', '.join(f'`{col}`' for col in df.columns)})\n",
    "VALUES ({', '.join(['%s'] * len(df.columns))})\n",
    "\"\"\"\n",
    "data = [tuple(row) for row in df.itertuples(index=False)]"
   ]
  },
  {
   "cell_type": "code",
   "execution_count": 23,
   "id": "f6da21be-9c96-4432-820d-7fd79d665519",
   "metadata": {},
   "outputs": [],
   "source": [
    "## Clearing Result if any Displayed or Pending\n",
    "mycursor.fetchall() "
   ]
  },
  {
   "cell_type": "code",
   "execution_count": 45,
   "id": "c5d766c2-1b99-4ea6-a8a5-ed9bd4a2f998",
   "metadata": {},
   "outputs": [
    {
     "name": "stdout",
     "output_type": "stream",
     "text": [
      "Data inserted successfully.\n"
     ]
    }
   ],
   "source": [
    "##INSERTING DATA\n",
    "try:\n",
    "    mycursor.executemany(insert_query, data)\n",
    "    conn.commit()\n",
    "    print(\"Data inserted successfully.\")\n",
    "except mysql.connector.Error as err:\n",
    "    print(\"Error inserting data:\", err)"
   ]
  },
  {
   "cell_type": "code",
   "execution_count": 47,
   "id": "50efd667-1306-4045-8928-37943c766407",
   "metadata": {},
   "outputs": [
    {
     "name": "stdout",
     "output_type": "stream",
     "text": [
      "(175296,)\n"
     ]
    }
   ],
   "source": [
    "mycursor.execute(\"SELECT COUNT(*) FROM DISCOM_DRAWAL_DATA;\")\n",
    "for x in mycursor:\n",
    "    print(x)"
   ]
  },
  {
   "cell_type": "code",
   "execution_count": 49,
   "id": "6f72da73-2755-4fc4-9b18-bef7b81d1085",
   "metadata": {},
   "outputs": [],
   "source": [
    "# Finalize\n",
    "conn.commit()\n",
    "mycursor.close()\n",
    "conn.close()"
   ]
  },
  {
   "cell_type": "code",
   "execution_count": null,
   "id": "00136a99-fd97-4fdc-8397-7d391c4c604f",
   "metadata": {},
   "outputs": [],
   "source": []
  }
 ],
 "metadata": {
  "kernelspec": {
   "display_name": "Python [conda env:base] *",
   "language": "python",
   "name": "conda-base-py"
  },
  "language_info": {
   "codemirror_mode": {
    "name": "ipython",
    "version": 3
   },
   "file_extension": ".py",
   "mimetype": "text/x-python",
   "name": "python",
   "nbconvert_exporter": "python",
   "pygments_lexer": "ipython3",
   "version": "3.12.7"
  }
 },
 "nbformat": 4,
 "nbformat_minor": 5
}
